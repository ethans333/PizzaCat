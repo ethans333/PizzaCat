{
 "cells": [
  {
   "cell_type": "code",
   "execution_count": 1,
   "id": "362c7ea9",
   "metadata": {},
   "outputs": [],
   "source": [
    "from quickdraw import QuickDrawDataGroup"
   ]
  },
  {
   "cell_type": "code",
   "execution_count": 2,
   "id": "998dcf1c",
   "metadata": {},
   "outputs": [],
   "source": [
    "categories = [\"pizza\", \"cat\"]\n",
    "max_drawings = 6250\n",
    "size = 32, 32"
   ]
  },
  {
   "cell_type": "code",
   "execution_count": 3,
   "id": "764bbc6f",
   "metadata": {},
   "outputs": [],
   "source": [
    "import matplotlib.pyplot as plt\n",
    "import matplotlib.image as img\n",
    "import numpy as np"
   ]
  },
  {
   "cell_type": "code",
   "execution_count": 4,
   "id": "79261878",
   "metadata": {},
   "outputs": [
    {
     "name": "stdout",
     "output_type": "stream",
     "text": [
      "loading pizza drawings\n",
      "load complete\n",
      "loading cat drawings\n",
      "load complete\n"
     ]
    }
   ],
   "source": [
    "images = []\n",
    "labels = []\n",
    "\n",
    "for c in categories:\n",
    "    group = QuickDrawDataGroup(c, max_drawings=max_drawings)\n",
    "    \n",
    "    for d in group.drawings:\n",
    "        d = d.image.resize(size).convert(\"L\")\n",
    "        images.append(np.asarray(d))\n",
    "        labels.append(c)"
   ]
  },
  {
   "cell_type": "code",
   "execution_count": 5,
   "id": "d062a6c6",
   "metadata": {},
   "outputs": [
    {
     "data": {
      "image/png": "[encoded data removed]",
      "text/plain": [
       "<Figure size 640x480 with 1 Axes>"
      ]
     },
     "metadata": {},
     "output_type": "display_data"
    }
   ],
   "source": [
    "plt.imshow(images[0])\n",
    "plt.show()"
   ]
  },
  {
   "cell_type": "code",
   "execution_count": 6,
   "id": "21d410c4",
   "metadata": {},
   "outputs": [],
   "source": [
    "images[:] = [i.ravel() for i in images]"
   ]
  },
  {
   "cell_type": "code",
   "execution_count": 7,
   "id": "a5f1cc8a",
   "metadata": {},
   "outputs": [
    {
     "data": {
      "text/plain": [
       "(12500, 1024)"
      ]
     },
     "execution_count": 7,
     "metadata": {},
     "output_type": "execute_result"
    }
   ],
   "source": [
    "np.shape(images)"
   ]
  },
  {
   "cell_type": "code",
   "execution_count": 8,
   "id": "a3e7f0cc",
   "metadata": {},
   "outputs": [],
   "source": [
    "from sklearn.model_selection import train_test_split\n",
    "X_train, X_test, y_train, y_test = train_test_split(images, labels, train_size=0.8)"
   ]
  },
  {
   "cell_type": "markdown",
   "id": "9db11033",
   "metadata": {},
   "source": [
    "Pickeling an SVM Model:"
   ]
  },
  {
   "cell_type": "code",
   "execution_count": 9,
   "id": "40094b60",
   "metadata": {},
   "outputs": [],
   "source": [
    "from sklearn.ensemble import RandomForestClassifier\n",
    "\n",
    "model = RandomForestClassifier(n_estimators=500, criterion=\"gini\")"
   ]
  },
  {
   "cell_type": "code",
   "execution_count": 10,
   "id": "395af751",
   "metadata": {},
   "outputs": [
    {
     "data": {
      "text/plain": [
       "0.9236"
      ]
     },
     "execution_count": 10,
     "metadata": {},
     "output_type": "execute_result"
    }
   ],
   "source": [
    "model.fit(X_train, y_train)\n",
    "model.score(X_test, y_test)"
   ]
  },
  {
   "cell_type": "code",
   "execution_count": 11,
   "id": "06214908",
   "metadata": {},
   "outputs": [],
   "source": [
    "import pickle"
   ]
  },
  {
   "cell_type": "code",
   "execution_count": 12,
   "id": "6b62ffff",
   "metadata": {},
   "outputs": [],
   "source": [
    "pickle.dump(model, open('./Saved Models/model_quickdraw.pkl', 'wb'))"
   ]
  }
 ],
 "metadata": {
  "kernelspec": {
   "display_name": "Python 3 (ipykernel)",
   "language": "python",
   "name": "python3"
  },
  "language_info": {
   "codemirror_mode": {
    "name": "ipython",
    "version": 3
   },
   "file_extension": ".py",
   "mimetype": "text/x-python",
   "name": "python",
   "nbconvert_exporter": "python",
   "pygments_lexer": "ipython3",
   "version": "3.9.13"
  }
 },
 "nbformat": 4,
 "nbformat_minor": 5
}
